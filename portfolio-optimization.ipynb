{
 "cells": [
  {
   "cell_type": "markdown",
   "id": "65f50401",
   "metadata": {},
   "source": [
    "# Assignment 04\n",
    "## Portfolio Optimization\n",
    "### Group Members: \n",
    "- Matti Ur Rehman (P19-0048)\n",
    "- Umair Azad (P19-0030)"
   ]
  },
  {
   "cell_type": "code",
   "execution_count": 2,
   "id": "b5bce28f",
   "metadata": {},
   "outputs": [],
   "source": [
    "import pandas as pd\n",
    "import numpy as np\n",
    "import datetime as dt\n",
    "import matplotlib.pyplot as plt\n",
    "from matplotlib import style\n",
    "import pandas_datareader.data as web # to collect data\n",
    "import matplotlib.dates as mdates\n",
    "%matplotlib inline"
   ]
  },
  {
   "cell_type": "code",
   "execution_count": 3,
   "id": "bc1a9548-f8e7-4098-ab4c-590481883f8e",
   "metadata": {},
   "outputs": [
    {
     "data": {
      "text/html": [
       "<div>\n",
       "<style scoped>\n",
       "    .dataframe tbody tr th:only-of-type {\n",
       "        vertical-align: middle;\n",
       "    }\n",
       "\n",
       "    .dataframe tbody tr th {\n",
       "        vertical-align: top;\n",
       "    }\n",
       "\n",
       "    .dataframe thead th {\n",
       "        text-align: right;\n",
       "    }\n",
       "</style>\n",
       "<table border=\"1\" class=\"dataframe\">\n",
       "  <thead>\n",
       "    <tr style=\"text-align: right;\">\n",
       "      <th></th>\n",
       "    </tr>\n",
       "  </thead>\n",
       "  <tbody>\n",
       "  </tbody>\n",
       "</table>\n",
       "</div>"
      ],
      "text/plain": [
       "Empty DataFrame\n",
       "Columns: []\n",
       "Index: []"
      ]
     },
     "execution_count": 3,
     "metadata": {},
     "output_type": "execute_result"
    }
   ],
   "source": [
    "style.use('ggplot')\n",
    "start = dt.datetime(2019, 1, 1)\n",
    "end = dt.datetime(2022, 5, 26)\n",
    "# Ethereum(ETH), Binance Coin(BNB), Cardano(ADA)\n",
    "tickers = ['ETH-USD', 'BNB-USD', 'ADA-USD']\n",
    "returns = pd.DataFrame()\n",
    "returns"
   ]
  },
  {
   "cell_type": "code",
   "execution_count": 4,
   "id": "ec8424fd-440e-4dc3-8006-d50c486e67dd",
   "metadata": {},
   "outputs": [],
   "source": [
    "returns = pd.DataFrame()\n",
    "portfolio_return = []\n",
    "portfolio_risk = []\n",
    "sharpe_ratio = []\n",
    "portfolio_weights = []\n",
    "rf = 0\n",
    "weights = 0\n",
    "annualized_return = 0"
   ]
  },
  {
   "cell_type": "code",
   "execution_count": 5,
   "id": "c63235fb-a676-47db-bf9b-565e12b1264a",
   "metadata": {},
   "outputs": [
    {
     "data": {
      "text/html": [
       "<div>\n",
       "<style scoped>\n",
       "    .dataframe tbody tr th:only-of-type {\n",
       "        vertical-align: middle;\n",
       "    }\n",
       "\n",
       "    .dataframe tbody tr th {\n",
       "        vertical-align: top;\n",
       "    }\n",
       "\n",
       "    .dataframe thead th {\n",
       "        text-align: right;\n",
       "    }\n",
       "</style>\n",
       "<table border=\"1\" class=\"dataframe\">\n",
       "  <thead>\n",
       "    <tr style=\"text-align: right;\">\n",
       "      <th></th>\n",
       "      <th>ETH-USD</th>\n",
       "      <th>BNB-USD</th>\n",
       "      <th>ADA-USD</th>\n",
       "    </tr>\n",
       "    <tr>\n",
       "      <th>Date</th>\n",
       "      <th></th>\n",
       "      <th></th>\n",
       "      <th></th>\n",
       "    </tr>\n",
       "  </thead>\n",
       "  <tbody>\n",
       "    <tr>\n",
       "      <th>2018-12-31</th>\n",
       "      <td>NaN</td>\n",
       "      <td>NaN</td>\n",
       "      <td>NaN</td>\n",
       "    </tr>\n",
       "    <tr>\n",
       "      <th>2019-01-01</th>\n",
       "      <td>0.055869</td>\n",
       "      <td>-0.014511</td>\n",
       "      <td>0.036140</td>\n",
       "    </tr>\n",
       "    <tr>\n",
       "      <th>2019-01-02</th>\n",
       "      <td>0.101039</td>\n",
       "      <td>0.018656</td>\n",
       "      <td>0.063718</td>\n",
       "    </tr>\n",
       "    <tr>\n",
       "      <th>2019-01-03</th>\n",
       "      <td>-0.038135</td>\n",
       "      <td>-0.046065</td>\n",
       "      <td>-0.056918</td>\n",
       "    </tr>\n",
       "    <tr>\n",
       "      <th>2019-01-04</th>\n",
       "      <td>0.036523</td>\n",
       "      <td>0.027374</td>\n",
       "      <td>0.026475</td>\n",
       "    </tr>\n",
       "    <tr>\n",
       "      <th>...</th>\n",
       "      <td>...</td>\n",
       "      <td>...</td>\n",
       "      <td>...</td>\n",
       "    </tr>\n",
       "    <tr>\n",
       "      <th>2022-05-22</th>\n",
       "      <td>0.034769</td>\n",
       "      <td>0.022860</td>\n",
       "      <td>0.027075</td>\n",
       "    </tr>\n",
       "    <tr>\n",
       "      <th>2022-05-23</th>\n",
       "      <td>-0.034744</td>\n",
       "      <td>-0.008912</td>\n",
       "      <td>-0.055311</td>\n",
       "    </tr>\n",
       "    <tr>\n",
       "      <th>2022-05-24</th>\n",
       "      <td>0.003448</td>\n",
       "      <td>0.036080</td>\n",
       "      <td>0.016814</td>\n",
       "    </tr>\n",
       "    <tr>\n",
       "      <th>2022-05-25</th>\n",
       "      <td>-0.017259</td>\n",
       "      <td>-0.007479</td>\n",
       "      <td>-0.014096</td>\n",
       "    </tr>\n",
       "    <tr>\n",
       "      <th>2022-05-26</th>\n",
       "      <td>-0.072456</td>\n",
       "      <td>-0.063766</td>\n",
       "      <td>-0.064206</td>\n",
       "    </tr>\n",
       "  </tbody>\n",
       "</table>\n",
       "<p>1243 rows × 3 columns</p>\n",
       "</div>"
      ],
      "text/plain": [
       "             ETH-USD   BNB-USD   ADA-USD\n",
       "Date                                    \n",
       "2018-12-31       NaN       NaN       NaN\n",
       "2019-01-01  0.055869 -0.014511  0.036140\n",
       "2019-01-02  0.101039  0.018656  0.063718\n",
       "2019-01-03 -0.038135 -0.046065 -0.056918\n",
       "2019-01-04  0.036523  0.027374  0.026475\n",
       "...              ...       ...       ...\n",
       "2022-05-22  0.034769  0.022860  0.027075\n",
       "2022-05-23 -0.034744 -0.008912 -0.055311\n",
       "2022-05-24  0.003448  0.036080  0.016814\n",
       "2022-05-25 -0.017259 -0.007479 -0.014096\n",
       "2022-05-26 -0.072456 -0.063766 -0.064206\n",
       "\n",
       "[1243 rows x 3 columns]"
      ]
     },
     "execution_count": 5,
     "metadata": {},
     "output_type": "execute_result"
    }
   ],
   "source": [
    "for ticker in tickers:\n",
    "    data = web.DataReader(ticker, 'yahoo', start, end) \n",
    "    data[ticker] = data['Adj Close'].pct_change()\n",
    "    \n",
    "    if returns.empty:\n",
    "        returns = data[[ticker]]\n",
    "    else:\n",
    "        returns = returns.join(data[[ticker]], how = 'outer')\n",
    "        \n",
    "returns"
   ]
  },
  {
   "cell_type": "code",
   "execution_count": 6,
   "id": "954f7d4a-23db-40db-8384-8b36ab7ff75a",
   "metadata": {},
   "outputs": [],
   "source": [
    "number_of_portfolios = 50000\n",
    "for portfolio in range(number_of_portfolios):\n",
    "    # Generate random portfolio weights\n",
    "    weights = np.random.random_sample(len(tickers))\n",
    "    weights = np.round((weights / np.sum(weights)), 3) # round-off to 3 decimal points\n",
    "    portfolio_weights.append(weights)\n",
    "    #Generate annualized portfolio return\n",
    "    annualized_return = np.sum(returns.mean() * weights) * 252\n",
    "    portfolio_return.append(annualized_return)\n",
    "    # Generate Portfolio risk\n",
    "    covariance_matrix = returns.cov() * 252\n",
    "    portfolio_variance = np.dot(weights.T, np.dot(covariance_matrix, weights))\n",
    "    portfolio_standard_deviation = np.sqrt(portfolio_variance)\n",
    "    portfolio_risk.append(portfolio_standard_deviation)\n",
    "    #Generate Sharpe Ratio\n",
    "    shrp_ratio = (annualized_return - rf) / portfolio_standard_deviation\n",
    "    sharpe_ratio.append(shrp_ratio)\n",
    "\n",
    "# print(portfolio_weights)\n",
    "# print(portfolio_return)\n",
    "# print(portfolio_risk)\n",
    "# print(sharpe_ratio)"
   ]
  },
  {
   "cell_type": "code",
   "execution_count": 7,
   "id": "687e9d77-a396-4ae5-bc01-c215e3c520fa",
   "metadata": {},
   "outputs": [],
   "source": [
    "portfolio_weights = np.array(portfolio_weights)\n",
    "portfolio_return = np.array(portfolio_return)\n",
    "portfolio_risk = np.array(portfolio_risk)\n",
    "sharpe_ratio = np.array(sharpe_ratio)"
   ]
  },
  {
   "cell_type": "code",
   "execution_count": 8,
   "id": "ce4ba917-6a6c-4a7b-b457-3aa84a5d2e8b",
   "metadata": {},
   "outputs": [],
   "source": [
    "portfolio_metrics = [portfolio_return, portfolio_risk, sharpe_ratio, portfolio_weights]\n",
    "#portfolio_metrics"
   ]
  },
  {
   "cell_type": "code",
   "execution_count": 9,
   "id": "cadc5165-9140-45be-b51a-69129432f8ed",
   "metadata": {},
   "outputs": [],
   "source": [
    "portfolio_df = pd.DataFrame(portfolio_metrics)\n",
    "#portfolio_df"
   ]
  },
  {
   "cell_type": "code",
   "execution_count": 10,
   "id": "4422ac79-9ef3-4e0b-92f5-77fe76127fb4",
   "metadata": {},
   "outputs": [],
   "source": [
    "portfolio_df = portfolio_df.T\n",
    "#portfolio_df"
   ]
  },
  {
   "cell_type": "code",
   "execution_count": 11,
   "id": "cf21422e-0f52-4ef2-92ef-bfbe29e855cd",
   "metadata": {},
   "outputs": [
    {
     "data": {
      "text/html": [
       "<div>\n",
       "<style scoped>\n",
       "    .dataframe tbody tr th:only-of-type {\n",
       "        vertical-align: middle;\n",
       "    }\n",
       "\n",
       "    .dataframe tbody tr th {\n",
       "        vertical-align: top;\n",
       "    }\n",
       "\n",
       "    .dataframe thead th {\n",
       "        text-align: right;\n",
       "    }\n",
       "</style>\n",
       "<table border=\"1\" class=\"dataframe\">\n",
       "  <thead>\n",
       "    <tr style=\"text-align: right;\">\n",
       "      <th></th>\n",
       "      <th>Return</th>\n",
       "      <th>Risk</th>\n",
       "      <th>Sharpe</th>\n",
       "      <th>Weights</th>\n",
       "    </tr>\n",
       "  </thead>\n",
       "  <tbody>\n",
       "    <tr>\n",
       "      <th>0</th>\n",
       "      <td>0.978275</td>\n",
       "      <td>0.7556</td>\n",
       "      <td>1.2947</td>\n",
       "      <td>[0.355, 0.34, 0.305]</td>\n",
       "    </tr>\n",
       "    <tr>\n",
       "      <th>1</th>\n",
       "      <td>1.038183</td>\n",
       "      <td>0.811481</td>\n",
       "      <td>1.279368</td>\n",
       "      <td>[0.002, 0.449, 0.549]</td>\n",
       "    </tr>\n",
       "    <tr>\n",
       "      <th>2</th>\n",
       "      <td>1.022022</td>\n",
       "      <td>0.765479</td>\n",
       "      <td>1.335141</td>\n",
       "      <td>[0.275, 0.483, 0.241]</td>\n",
       "    </tr>\n",
       "    <tr>\n",
       "      <th>3</th>\n",
       "      <td>0.895152</td>\n",
       "      <td>0.775869</td>\n",
       "      <td>1.153742</td>\n",
       "      <td>[0.479, 0.062, 0.46]</td>\n",
       "    </tr>\n",
       "    <tr>\n",
       "      <th>4</th>\n",
       "      <td>1.00392</td>\n",
       "      <td>0.755926</td>\n",
       "      <td>1.328067</td>\n",
       "      <td>[0.38, 0.446, 0.174]</td>\n",
       "    </tr>\n",
       "    <tr>\n",
       "      <th>...</th>\n",
       "      <td>...</td>\n",
       "      <td>...</td>\n",
       "      <td>...</td>\n",
       "      <td>...</td>\n",
       "    </tr>\n",
       "    <tr>\n",
       "      <th>49995</th>\n",
       "      <td>1.02194</td>\n",
       "      <td>0.78531</td>\n",
       "      <td>1.30132</td>\n",
       "      <td>[0.132, 0.431, 0.437]</td>\n",
       "    </tr>\n",
       "    <tr>\n",
       "      <th>49996</th>\n",
       "      <td>1.049555</td>\n",
       "      <td>0.805526</td>\n",
       "      <td>1.302944</td>\n",
       "      <td>[0.019, 0.498, 0.483]</td>\n",
       "    </tr>\n",
       "    <tr>\n",
       "      <th>49997</th>\n",
       "      <td>0.964626</td>\n",
       "      <td>0.744739</td>\n",
       "      <td>1.295254</td>\n",
       "      <td>[0.521, 0.344, 0.135]</td>\n",
       "    </tr>\n",
       "    <tr>\n",
       "      <th>49998</th>\n",
       "      <td>0.95969</td>\n",
       "      <td>0.800291</td>\n",
       "      <td>1.199176</td>\n",
       "      <td>[0.185, 0.212, 0.603]</td>\n",
       "    </tr>\n",
       "    <tr>\n",
       "      <th>49999</th>\n",
       "      <td>0.973391</td>\n",
       "      <td>0.776928</td>\n",
       "      <td>1.252871</td>\n",
       "      <td>[0.241, 0.283, 0.476]</td>\n",
       "    </tr>\n",
       "  </tbody>\n",
       "</table>\n",
       "<p>50000 rows × 4 columns</p>\n",
       "</div>"
      ],
      "text/plain": [
       "         Return      Risk    Sharpe                Weights\n",
       "0      0.978275    0.7556    1.2947   [0.355, 0.34, 0.305]\n",
       "1      1.038183  0.811481  1.279368  [0.002, 0.449, 0.549]\n",
       "2      1.022022  0.765479  1.335141  [0.275, 0.483, 0.241]\n",
       "3      0.895152  0.775869  1.153742   [0.479, 0.062, 0.46]\n",
       "4       1.00392  0.755926  1.328067   [0.38, 0.446, 0.174]\n",
       "...         ...       ...       ...                    ...\n",
       "49995   1.02194   0.78531   1.30132  [0.132, 0.431, 0.437]\n",
       "49996  1.049555  0.805526  1.302944  [0.019, 0.498, 0.483]\n",
       "49997  0.964626  0.744739  1.295254  [0.521, 0.344, 0.135]\n",
       "49998   0.95969  0.800291  1.199176  [0.185, 0.212, 0.603]\n",
       "49999  0.973391  0.776928  1.252871  [0.241, 0.283, 0.476]\n",
       "\n",
       "[50000 rows x 4 columns]"
      ]
     },
     "execution_count": 11,
     "metadata": {},
     "output_type": "execute_result"
    }
   ],
   "source": [
    "portfolio_df.columns = ['Return', 'Risk', 'Sharpe', 'Weights']\n",
    "portfolio_df"
   ]
  },
  {
   "cell_type": "markdown",
   "id": "d1b2c0f4-f4ae-4639-a6f6-3be8ff0eb47e",
   "metadata": {},
   "source": [
    "### Identify a minimum risk portfolio:"
   ]
  },
  {
   "cell_type": "code",
   "execution_count": 12,
   "id": "117a0e0b-312a-4245-a0e8-8e5260913bbd",
   "metadata": {},
   "outputs": [
    {
     "data": {
      "text/html": [
       "<div>\n",
       "<style scoped>\n",
       "    .dataframe tbody tr th:only-of-type {\n",
       "        vertical-align: middle;\n",
       "    }\n",
       "\n",
       "    .dataframe tbody tr th {\n",
       "        vertical-align: top;\n",
       "    }\n",
       "\n",
       "    .dataframe thead th {\n",
       "        text-align: right;\n",
       "    }\n",
       "</style>\n",
       "<table border=\"1\" class=\"dataframe\">\n",
       "  <thead>\n",
       "    <tr style=\"text-align: right;\">\n",
       "      <th></th>\n",
       "      <th>Return</th>\n",
       "      <th>Risk</th>\n",
       "      <th>Sharpe</th>\n",
       "      <th>Weights</th>\n",
       "    </tr>\n",
       "  </thead>\n",
       "  <tbody>\n",
       "    <tr>\n",
       "      <th>0</th>\n",
       "      <td>0.978275</td>\n",
       "      <td>0.7556</td>\n",
       "      <td>1.2947</td>\n",
       "      <td>[0.355, 0.34, 0.305]</td>\n",
       "    </tr>\n",
       "    <tr>\n",
       "      <th>1</th>\n",
       "      <td>1.038183</td>\n",
       "      <td>0.811481</td>\n",
       "      <td>1.279368</td>\n",
       "      <td>[0.002, 0.449, 0.549]</td>\n",
       "    </tr>\n",
       "    <tr>\n",
       "      <th>2</th>\n",
       "      <td>1.022022</td>\n",
       "      <td>0.765479</td>\n",
       "      <td>1.335141</td>\n",
       "      <td>[0.275, 0.483, 0.241]</td>\n",
       "    </tr>\n",
       "    <tr>\n",
       "      <th>3</th>\n",
       "      <td>0.895152</td>\n",
       "      <td>0.775869</td>\n",
       "      <td>1.153742</td>\n",
       "      <td>[0.479, 0.062, 0.46]</td>\n",
       "    </tr>\n",
       "    <tr>\n",
       "      <th>4</th>\n",
       "      <td>1.00392</td>\n",
       "      <td>0.755926</td>\n",
       "      <td>1.328067</td>\n",
       "      <td>[0.38, 0.446, 0.174]</td>\n",
       "    </tr>\n",
       "    <tr>\n",
       "      <th>...</th>\n",
       "      <td>...</td>\n",
       "      <td>...</td>\n",
       "      <td>...</td>\n",
       "      <td>...</td>\n",
       "    </tr>\n",
       "    <tr>\n",
       "      <th>49995</th>\n",
       "      <td>1.02194</td>\n",
       "      <td>0.78531</td>\n",
       "      <td>1.30132</td>\n",
       "      <td>[0.132, 0.431, 0.437]</td>\n",
       "    </tr>\n",
       "    <tr>\n",
       "      <th>49996</th>\n",
       "      <td>1.049555</td>\n",
       "      <td>0.805526</td>\n",
       "      <td>1.302944</td>\n",
       "      <td>[0.019, 0.498, 0.483]</td>\n",
       "    </tr>\n",
       "    <tr>\n",
       "      <th>49997</th>\n",
       "      <td>0.964626</td>\n",
       "      <td>0.744739</td>\n",
       "      <td>1.295254</td>\n",
       "      <td>[0.521, 0.344, 0.135]</td>\n",
       "    </tr>\n",
       "    <tr>\n",
       "      <th>49998</th>\n",
       "      <td>0.95969</td>\n",
       "      <td>0.800291</td>\n",
       "      <td>1.199176</td>\n",
       "      <td>[0.185, 0.212, 0.603]</td>\n",
       "    </tr>\n",
       "    <tr>\n",
       "      <th>49999</th>\n",
       "      <td>0.973391</td>\n",
       "      <td>0.776928</td>\n",
       "      <td>1.252871</td>\n",
       "      <td>[0.241, 0.283, 0.476]</td>\n",
       "    </tr>\n",
       "  </tbody>\n",
       "</table>\n",
       "<p>50000 rows × 4 columns</p>\n",
       "</div>"
      ],
      "text/plain": [
       "         Return      Risk    Sharpe                Weights\n",
       "0      0.978275    0.7556    1.2947   [0.355, 0.34, 0.305]\n",
       "1      1.038183  0.811481  1.279368  [0.002, 0.449, 0.549]\n",
       "2      1.022022  0.765479  1.335141  [0.275, 0.483, 0.241]\n",
       "3      0.895152  0.775869  1.153742   [0.479, 0.062, 0.46]\n",
       "4       1.00392  0.755926  1.328067   [0.38, 0.446, 0.174]\n",
       "...         ...       ...       ...                    ...\n",
       "49995   1.02194   0.78531   1.30132  [0.132, 0.431, 0.437]\n",
       "49996  1.049555  0.805526  1.302944  [0.019, 0.498, 0.483]\n",
       "49997  0.964626  0.744739  1.295254  [0.521, 0.344, 0.135]\n",
       "49998   0.95969  0.800291  1.199176  [0.185, 0.212, 0.603]\n",
       "49999  0.973391  0.776928  1.252871  [0.241, 0.283, 0.476]\n",
       "\n",
       "[50000 rows x 4 columns]"
      ]
     },
     "execution_count": 12,
     "metadata": {},
     "output_type": "execute_result"
    }
   ],
   "source": [
    "portfolio_df"
   ]
  },
  {
   "cell_type": "code",
   "execution_count": 15,
   "id": "2ec40f07-6ade-4da8-85ad-7748368f42c0",
   "metadata": {},
   "outputs": [
    {
     "data": {
      "text/plain": [
       "Return                  0.928294\n",
       "Risk                    0.740933\n",
       "Sharpe                  1.252872\n",
       "Weights    [0.633, 0.247, 0.119]\n",
       "Name: 28064, dtype: object"
      ]
     },
     "execution_count": 15,
     "metadata": {},
     "output_type": "execute_result"
    }
   ],
   "source": [
    "min_risk_portfolio = portfolio_df.iloc[portfolio_df['Risk'].astype(float).idxmin()]\n",
    "min_risk_portfolio\n",
    "\n",
    "# among all the known portfolios, this is the one with the minimum risk."
   ]
  },
  {
   "cell_type": "code",
   "execution_count": 16,
   "id": "14fb2ddc-3361-491f-9edd-080767caa399",
   "metadata": {},
   "outputs": [
    {
     "data": {
      "text/plain": [
       "Return                  1.180232\n",
       "Risk                    0.891869\n",
       "Sharpe                  1.323324\n",
       "Weights    [0.005, 0.987, 0.009]\n",
       "Name: 23006, dtype: object"
      ]
     },
     "execution_count": 16,
     "metadata": {},
     "output_type": "execute_result"
    }
   ],
   "source": [
    "max_return_portfolio = portfolio_df.iloc[portfolio_df['Return'].astype(float).idxmax()]\n",
    "max_return_portfolio\n",
    "\n",
    "# among all the known portfolios, this is the one with the maximum return."
   ]
  },
  {
   "cell_type": "code",
   "execution_count": 17,
   "id": "ea113a71-43f0-4804-8cee-28a44c86901c",
   "metadata": {},
   "outputs": [
    {
     "data": {
      "text/plain": [
       "Return                  1.086384\n",
       "Risk                    0.801649\n",
       "Sharpe                  1.355187\n",
       "Weights    [0.167, 0.688, 0.145]\n",
       "Name: 30976, dtype: object"
      ]
     },
     "execution_count": 17,
     "metadata": {},
     "output_type": "execute_result"
    }
   ],
   "source": [
    "max_sharpe_portfolio = portfolio_df.iloc[portfolio_df['Sharpe'].astype(float).idxmax()]\n",
    "max_sharpe_portfolio\n",
    "\n",
    "# among all the known portfolios, this is the one with the maximum sharpe ratio."
   ]
  },
  {
   "cell_type": "code",
   "execution_count": 18,
   "id": "a59fd5e8-f941-4c2f-b8a2-dc2f8b73e803",
   "metadata": {},
   "outputs": [
    {
     "name": "stdout",
     "output_type": "stream",
     "text": [
      "Minimum Risk Portfolio\n",
      "Return                  0.928294\n",
      "Risk                    0.740933\n",
      "Sharpe                  1.252872\n",
      "Weights    [0.633, 0.247, 0.119]\n",
      "Name: 28064, dtype: object\n",
      "['ETH-USD', 'BNB-USD', 'ADA-USD']\n",
      "\n",
      "Maximum Return Portfolio\n",
      "Return                  1.180232\n",
      "Risk                    0.891869\n",
      "Sharpe                  1.323324\n",
      "Weights    [0.005, 0.987, 0.009]\n",
      "Name: 23006, dtype: object\n",
      "['ETH-USD', 'BNB-USD', 'ADA-USD']\n",
      "\n",
      "Maximum Sharpe Ratio Portfolio\n",
      "Return                  1.086384\n",
      "Risk                    0.801649\n",
      "Sharpe                  1.355187\n",
      "Weights    [0.167, 0.688, 0.145]\n",
      "Name: 30976, dtype: object\n",
      "['ETH-USD', 'BNB-USD', 'ADA-USD']\n",
      "\n"
     ]
    }
   ],
   "source": [
    "print('Minimum Risk Portfolio')\n",
    "print(min_risk_portfolio)\n",
    "print(tickers)\n",
    "print('')\n",
    "\n",
    "print('Maximum Return Portfolio')\n",
    "print(max_return_portfolio)\n",
    "print(tickers)\n",
    "print('')\n",
    "\n",
    "print('Maximum Sharpe Ratio Portfolio')\n",
    "print(max_sharpe_portfolio)\n",
    "print(tickers)\n",
    "print('')"
   ]
  },
  {
   "cell_type": "markdown",
   "id": "ac219911-3330-43af-8d0f-c5d57f2def81",
   "metadata": {},
   "source": [
    "### Visualization:"
   ]
  },
  {
   "cell_type": "code",
   "execution_count": 20,
   "id": "baf133d0-4ccb-438e-afc4-40e2d062b226",
   "metadata": {},
   "outputs": [
    {
     "data": {
      "image/png": "[encoded data removed]",
      "text/plain": [
       "<Figure size 720x360 with 2 Axes>"
      ]
     },
     "metadata": {},
     "output_type": "display_data"
    }
   ],
   "source": [
    "plt.figure(figsize = (10, 5))\n",
    "plt.scatter(portfolio_risk, portfolio_return, c = portfolio_return / portfolio_risk) # c for colorbar based on sharpe.\n",
    "\n",
    "plt.title('Portfolio Optimization', fontsize = 26)\n",
    "\n",
    "plt.xlabel('Volatility', fontsize = 20)\n",
    "plt.ylabel('Return', fontsize = 20)\n",
    "\n",
    "plt.xticks(fontsize = 15)\n",
    "plt.yticks(fontsize = 15)\n",
    "\n",
    "plt.colorbar(label = 'Sharpe Ratio')\n",
    "\n",
    "plt.show()"
   ]
  },
  {
   "cell_type": "markdown",
   "id": "40749c75-893a-4327-8401-8a69e73a329d",
   "metadata": {},
   "source": [
    "### Comparison with individual assets:"
   ]
  },
  {
   "cell_type": "code",
   "execution_count": 21,
   "id": "578df07a-ca10-473d-a85a-ba3b3506babc",
   "metadata": {},
   "outputs": [
    {
     "data": {
      "text/html": [
       "<div>\n",
       "<style scoped>\n",
       "    .dataframe tbody tr th:only-of-type {\n",
       "        vertical-align: middle;\n",
       "    }\n",
       "\n",
       "    .dataframe tbody tr th {\n",
       "        vertical-align: top;\n",
       "    }\n",
       "\n",
       "    .dataframe thead th {\n",
       "        text-align: right;\n",
       "    }\n",
       "</style>\n",
       "<table border=\"1\" class=\"dataframe\">\n",
       "  <thead>\n",
       "    <tr style=\"text-align: right;\">\n",
       "      <th></th>\n",
       "      <th>ETH-USD</th>\n",
       "      <th>BNB-USD</th>\n",
       "      <th>ADA-USD</th>\n",
       "    </tr>\n",
       "    <tr>\n",
       "      <th>Date</th>\n",
       "      <th></th>\n",
       "      <th></th>\n",
       "      <th></th>\n",
       "    </tr>\n",
       "  </thead>\n",
       "  <tbody>\n",
       "    <tr>\n",
       "      <th>2018-12-31</th>\n",
       "      <td>NaN</td>\n",
       "      <td>NaN</td>\n",
       "      <td>NaN</td>\n",
       "    </tr>\n",
       "    <tr>\n",
       "      <th>2019-01-01</th>\n",
       "      <td>0.055869</td>\n",
       "      <td>-0.014511</td>\n",
       "      <td>0.036140</td>\n",
       "    </tr>\n",
       "    <tr>\n",
       "      <th>2019-01-02</th>\n",
       "      <td>0.101039</td>\n",
       "      <td>0.018656</td>\n",
       "      <td>0.063718</td>\n",
       "    </tr>\n",
       "    <tr>\n",
       "      <th>2019-01-03</th>\n",
       "      <td>-0.038135</td>\n",
       "      <td>-0.046065</td>\n",
       "      <td>-0.056918</td>\n",
       "    </tr>\n",
       "    <tr>\n",
       "      <th>2019-01-04</th>\n",
       "      <td>0.036523</td>\n",
       "      <td>0.027374</td>\n",
       "      <td>0.026475</td>\n",
       "    </tr>\n",
       "    <tr>\n",
       "      <th>...</th>\n",
       "      <td>...</td>\n",
       "      <td>...</td>\n",
       "      <td>...</td>\n",
       "    </tr>\n",
       "    <tr>\n",
       "      <th>2022-05-22</th>\n",
       "      <td>0.034769</td>\n",
       "      <td>0.022860</td>\n",
       "      <td>0.027075</td>\n",
       "    </tr>\n",
       "    <tr>\n",
       "      <th>2022-05-23</th>\n",
       "      <td>-0.034744</td>\n",
       "      <td>-0.008912</td>\n",
       "      <td>-0.055311</td>\n",
       "    </tr>\n",
       "    <tr>\n",
       "      <th>2022-05-24</th>\n",
       "      <td>0.003448</td>\n",
       "      <td>0.036080</td>\n",
       "      <td>0.016814</td>\n",
       "    </tr>\n",
       "    <tr>\n",
       "      <th>2022-05-25</th>\n",
       "      <td>-0.017259</td>\n",
       "      <td>-0.007479</td>\n",
       "      <td>-0.014096</td>\n",
       "    </tr>\n",
       "    <tr>\n",
       "      <th>2022-05-26</th>\n",
       "      <td>-0.072456</td>\n",
       "      <td>-0.063766</td>\n",
       "      <td>-0.064206</td>\n",
       "    </tr>\n",
       "  </tbody>\n",
       "</table>\n",
       "<p>1243 rows × 3 columns</p>\n",
       "</div>"
      ],
      "text/plain": [
       "             ETH-USD   BNB-USD   ADA-USD\n",
       "Date                                    \n",
       "2018-12-31       NaN       NaN       NaN\n",
       "2019-01-01  0.055869 -0.014511  0.036140\n",
       "2019-01-02  0.101039  0.018656  0.063718\n",
       "2019-01-03 -0.038135 -0.046065 -0.056918\n",
       "2019-01-04  0.036523  0.027374  0.026475\n",
       "...              ...       ...       ...\n",
       "2022-05-22  0.034769  0.022860  0.027075\n",
       "2022-05-23 -0.034744 -0.008912 -0.055311\n",
       "2022-05-24  0.003448  0.036080  0.016814\n",
       "2022-05-25 -0.017259 -0.007479 -0.014096\n",
       "2022-05-26 -0.072456 -0.063766 -0.064206\n",
       "\n",
       "[1243 rows x 3 columns]"
      ]
     },
     "execution_count": 21,
     "metadata": {},
     "output_type": "execute_result"
    }
   ],
   "source": [
    "returns"
   ]
  },
  {
   "cell_type": "code",
   "execution_count": 22,
   "id": "7580dc63-d104-44fd-9c66-afe4578e62e9",
   "metadata": {},
   "outputs": [
    {
     "data": {
      "text/plain": [
       "ETH-USD    0.003301\n",
       "BNB-USD    0.004695\n",
       "ADA-USD    0.003652\n",
       "dtype: float64"
      ]
     },
     "execution_count": 22,
     "metadata": {},
     "output_type": "execute_result"
    }
   ],
   "source": [
    "returns.mean() # daily returns"
   ]
  },
  {
   "cell_type": "code",
   "execution_count": 23,
   "id": "b71e7fda-005a-40bd-a988-52e320373b5f",
   "metadata": {},
   "outputs": [
    {
     "data": {
      "text/plain": [
       "ETH-USD    0.048408\n",
       "BNB-USD    0.056444\n",
       "ADA-USD    0.057934\n",
       "dtype: float64"
      ]
     },
     "execution_count": 23,
     "metadata": {},
     "output_type": "execute_result"
    }
   ],
   "source": [
    "returns.std() # daily standard deviation"
   ]
  },
  {
   "cell_type": "code",
   "execution_count": 24,
   "id": "4eac5837-25bc-4b1d-afb5-9d039e29645d",
   "metadata": {},
   "outputs": [
    {
     "data": {
      "text/plain": [
       "ETH-USD    0.831799\n",
       "BNB-USD    1.183171\n",
       "ADA-USD    0.920356\n",
       "dtype: float64"
      ]
     },
     "execution_count": 24,
     "metadata": {},
     "output_type": "execute_result"
    }
   ],
   "source": [
    "returns.mean() * 252 # annual returns"
   ]
  },
  {
   "cell_type": "code",
   "execution_count": 25,
   "id": "0e50679a-3619-477b-80a7-a5417d1c18c9",
   "metadata": {},
   "outputs": [
    {
     "data": {
      "text/plain": [
       "ETH-USD    12.198890\n",
       "BNB-USD    14.223769\n",
       "ADA-USD    14.599282\n",
       "dtype: float64"
      ]
     },
     "execution_count": 25,
     "metadata": {},
     "output_type": "execute_result"
    }
   ],
   "source": [
    "returns.std() * 252 # annual standard deviations"
   ]
  }
 ],
 "metadata": {
  "kernelspec": {
   "display_name": "Python 3 (ipykernel)",
   "language": "python",
   "name": "python3"
  },
  "language_info": {
   "codemirror_mode": {
    "name": "ipython",
    "version": 3
   },
   "file_extension": ".py",
   "mimetype": "text/x-python",
   "name": "python",
   "nbconvert_exporter": "python",
   "pygments_lexer": "ipython3",
   "version": "3.9.7"
  }
 },
 "nbformat": 4,
 "nbformat_minor": 5
}
